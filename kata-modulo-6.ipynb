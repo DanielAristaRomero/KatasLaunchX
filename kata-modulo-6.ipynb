{
 "cells": [
  {
   "cell_type": "code",
   "execution_count": 2,
   "metadata": {},
   "outputs": [
    {
     "name": "stdout",
     "output_type": "stream",
     "text": [
      "Hay 8 planetas\n",
      "Ahora hay 9 planetas\n",
      "Plutón es el último planeta\n"
     ]
    }
   ],
   "source": [
    "planets = ['Mercurio', 'Venus', 'Tierra', 'Marte', 'Jupiter', 'Saturno', 'Urano', 'Neptuno']\n",
    "\n",
    "print('Hay', len(planets), 'planetas')\n",
    "\n",
    "planets.append('Plutón')\n",
    "\n",
    "print('Ahora hay', len(planets), 'planetas')\n",
    "print(planets[-1], 'es el último planeta')\n"
   ]
  },
  {
   "cell_type": "code",
   "execution_count": 4,
   "metadata": {},
   "outputs": [
    {
     "name": "stdout",
     "output_type": "stream",
     "text": [
      "Planetas mas cercanos que Tierra\n",
      "['Mercurio', 'Venus']\n",
      "Planetas mas lejanos que Tierra\n",
      "['Marte', 'Jupiter', 'Saturno', 'Urano', 'Neptuno']\n"
     ]
    }
   ],
   "source": [
    "planets = ['Mercurio', 'Venus', 'Tierra', 'Marte', 'Jupiter', 'Saturno', 'Urano', 'Neptuno']\n",
    "\n",
    "planetaSolicitado = input('Ingresa el nombre del planeta, debe comenzar con mayúscula')\n",
    "\n",
    "indice = planets.index(planetaSolicitado)\n",
    "\n",
    "print('Planetas mas cercanos que ' + planetaSolicitado)\n",
    "print(planets[0:indice])\n",
    "\n",
    "print('Planetas mas lejanos que ' + planetaSolicitado)\n",
    "print(planets[indice + 1:])"
   ]
  }
 ],
 "metadata": {
  "interpreter": {
   "hash": "1a33be656fbce049cc62fb6f2208e6889fb904c499cbb777bda0afa84c694763"
  },
  "kernelspec": {
   "display_name": "Python 3.8.10 ('env': venv)",
   "language": "python",
   "name": "python3"
  },
  "language_info": {
   "codemirror_mode": {
    "name": "ipython",
    "version": 3
   },
   "file_extension": ".py",
   "mimetype": "text/x-python",
   "name": "python",
   "nbconvert_exporter": "python",
   "pygments_lexer": "ipython3",
   "version": "3.8.10"
  },
  "orig_nbformat": 4
 },
 "nbformat": 4,
 "nbformat_minor": 2
}
