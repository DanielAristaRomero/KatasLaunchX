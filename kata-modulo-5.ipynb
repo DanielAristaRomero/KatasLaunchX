{
 "cells": [
  {
   "cell_type": "code",
   "execution_count": 2,
   "metadata": {},
   "outputs": [
    {
     "name": "stdout",
     "output_type": "stream",
     "text": [
      "Distancia en km: 628949330\n",
      "Distancia en mi: 390577533.93\n"
     ]
    }
   ],
   "source": [
    "planetaUno = 149597870\n",
    "planetaDos = 778547200\n",
    "\n",
    "distanciaKm = planetaDos - planetaUno\n",
    "print('Distancia en km: ' + str(distanciaKm))\n",
    "\n",
    "distanciaMi = distanciaKm * 0.621\n",
    "print('Distancia en mi: ' + str(distanciaMi))"
   ]
  },
  {
   "cell_type": "code",
   "execution_count": 4,
   "metadata": {},
   "outputs": [
    {
     "name": "stdout",
     "output_type": "stream",
     "text": [
      "720700000\n",
      "447554700.0\n"
     ]
    }
   ],
   "source": [
    "planetaUno = input('Introduzca la distancia del primer planeta en KM')\n",
    "planetaDos = input('Introduzca la distancia del segundo planeta en KM')\n",
    "\n",
    "planetaUno = int(planetaUno)\n",
    "planetaDos = int(planetaDos)\n",
    "\n",
    "distanciaKm = planetaDos - planetaUno\n",
    "print(distanciaKm)\n",
    "\n",
    "distanciaMi = distanciaKm * 0.621\n",
    "print(abs(distanciaMi))"
   ]
  }
 ],
 "metadata": {
  "interpreter": {
   "hash": "1a33be656fbce049cc62fb6f2208e6889fb904c499cbb777bda0afa84c694763"
  },
  "kernelspec": {
   "display_name": "Python 3.8.10 ('env': venv)",
   "language": "python",
   "name": "python3"
  },
  "language_info": {
   "codemirror_mode": {
    "name": "ipython",
    "version": 3
   },
   "file_extension": ".py",
   "mimetype": "text/x-python",
   "name": "python",
   "nbconvert_exporter": "python",
   "pygments_lexer": "ipython3",
   "version": "3.8.10"
  },
  "orig_nbformat": 4
 },
 "nbformat": 4,
 "nbformat_minor": 2
}
