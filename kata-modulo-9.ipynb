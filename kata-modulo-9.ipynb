{
 "cells": [
  {
   "cell_type": "code",
   "execution_count": 1,
   "metadata": {},
   "outputs": [
    {
     "name": "stdout",
     "output_type": "stream",
     "text": [
      "Reporte de combustible:\n",
      "  Promedio: 85.33333333333333%\n",
      "  Tanque 1: 100%\n",
      "  Tanque 2: 67%\n",
      "  Tanque 3: 89% \n",
      "  \n",
      "Reporte de combustible:\n",
      "  Promedio: 85.33333333333333%\n",
      "  Tanque 1: 100%\n",
      "  Tanque 2: 67%\n",
      "  Tanque 3: 89% \n",
      "  \n"
     ]
    }
   ],
   "source": [
    "def generarReporte(tanque1, tanque2, tanque3):\n",
    "  promedio = (tanque1 + tanque2 + tanque3) / 3\n",
    "  return f\"\"\"Reporte de combustible:\n",
    "  Promedio: {promedio}%\n",
    "  Tanque 1: {tanque1}%\n",
    "  Tanque 2: {tanque2}%\n",
    "  Tanque 3: {tanque3}% \n",
    "  \"\"\"\n",
    "\n",
    "print(generarReporte(100, 67, 89))\n",
    "\n",
    "def promedio(valores):\n",
    "  total = sum(valores)\n",
    "  cantidad = len(valores)\n",
    "  return total / cantidad\n",
    "\n",
    "promedio([80, 85, 81]) \n",
    "\n",
    "def generarReporte(tanque1, tanque2, tanque3):\n",
    "  return f\"\"\"Reporte de combustible:\n",
    "  Promedio: {promedio([tanque1, tanque2, tanque3])}%\n",
    "  Tanque 1: {tanque1}%\n",
    "  Tanque 2: {tanque2}%\n",
    "  Tanque 3: {tanque3}% \n",
    "  \"\"\"\n",
    "\n",
    "print(generarReporte(100, 67, 89))"
   ]
  },
  {
   "cell_type": "code",
   "execution_count": 6,
   "metadata": {},
   "outputs": [
    {
     "name": "stdout",
     "output_type": "stream",
     "text": [
      "\n",
      "  Mision hacia Luna\n",
      "  Tiempo de vuelo: 1200003 minutos\n",
      "  Combustible restante: 500000 galones\n",
      "  \n",
      "\n",
      "  Mision hacia Luna\n",
      "  Tiempo de vuelo: 1200066 minutos\n",
      "  Combustible restante: 500000\n",
      "  \n",
      "\n",
      "    Mision hacia Luna\n",
      "    Tiempo de vuelo: 3128420 minutes\n",
      "    Combustible restante: 161231127\n",
      "    main tanque --> 75675577 galones restantes\n",
      "external tanque --> 85555550 galones restantes\n",
      "\n"
     ]
    }
   ],
   "source": [
    "def generarReporteMision(hora, tiempoVuelo, destino, tanqueEx, tanqueIn):\n",
    "  return f\"\"\"\n",
    "  Mision hacia {destino}\n",
    "  Tiempo de vuelo: {hora + tiempoVuelo} minutos\n",
    "  Combustible restante: {tanqueEx + tanqueIn} galones\n",
    "  \"\"\"\n",
    "\n",
    "print(generarReporteMision(3, 1200000, \"Luna\", 200000, 300000))\n",
    "\n",
    "def generarReporteMision(destino, *minutos, **reservasCombustible):\n",
    "  return f\"\"\"\n",
    "  Mision hacia {destino}\n",
    "  Tiempo de vuelo: {sum(minutos)} minutos\n",
    "  Combustible restante: {sum(reservasCombustible.values())}\n",
    "  \"\"\"\n",
    "\n",
    "print(generarReporteMision(\"Luna\", 1200000, 15, 51, main=300000, external=200000))\n",
    "\n",
    "def generarReporteMision(destino, *minutos, **reservasCombustible):\n",
    "    reporte = f\"\"\"\n",
    "    Mision hacia {destino}\n",
    "    Tiempo de vuelo: {sum(minutos)} minutes\n",
    "    Combustible restante: {sum(reservasCombustible.values())}\n",
    "    \"\"\"\n",
    "    for tanque, galones in reservasCombustible.items():\n",
    "        reporte += f\"{tanque} tanque --> {galones} galones restantes\\n\"\n",
    "    return reporte\n",
    "\n",
    "print(generarReporteMision(\"Luna\", 3122222, 5643, 555, main=75675577, external=85555550))"
   ]
  }
 ],
 "metadata": {
  "interpreter": {
   "hash": "31f2aee4e71d21fbe5cf8b01ff0e069b9275f58929596ceb00d14d90e3e16cd6"
  },
  "kernelspec": {
   "display_name": "Python 3.8.10 64-bit",
   "language": "python",
   "name": "python3"
  },
  "language_info": {
   "codemirror_mode": {
    "name": "ipython",
    "version": 3
   },
   "file_extension": ".py",
   "mimetype": "text/x-python",
   "name": "python",
   "nbconvert_exporter": "python",
   "pygments_lexer": "ipython3",
   "version": "3.8.10"
  },
  "orig_nbformat": 4
 },
 "nbformat": 4,
 "nbformat_minor": 2
}
